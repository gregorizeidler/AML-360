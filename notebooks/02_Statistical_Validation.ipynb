{
  "cells": [
    {
      "cell_type": "markdown",
      "metadata": {},
      "source": [
        "# AML 360° - Statistical Validation & Scientific Analysis\n",
        "\n",
        "Advanced statistical testing and mathematical validation of the AML detection system.\n",
        "\n",
        "## Mathematical Framework\n",
        "\n",
        "This notebook implements rigorous statistical testing including:\n",
        "- **Extreme Value Theory (EVT)** for tail risk analysis\n",
        "- **GARCH models** for volatility clustering  \n",
        "- **Population Stability Index (PSI)** with bootstrap CI\n",
        "- **Causal inference** using propensity scores and doubly robust estimators\n",
        "- **Monte Carlo simulation** for uncertainty quantification\n",
        "- **Bayesian model averaging** with MCMC\n",
        "\n",
        "### Key Statistical Tests\n",
        "1. Model calibration (Hosmer-Lemeshow)\n",
        "2. Distribution drift (Kolmogorov-Smirnov, Jensen-Shannon)\n",
        "3. Feature stability (Variance Inflation Factor)\n",
        "4. Causal relationships (Granger causality, IV estimation)\n",
        "5. Extreme scenarios (VaR, copula simulation)\n"
      ]
    }
  ],
  "metadata": {
    "language_info": {
      "name": "python"
    }
  },
  "nbformat": 4,
  "nbformat_minor": 2
}
