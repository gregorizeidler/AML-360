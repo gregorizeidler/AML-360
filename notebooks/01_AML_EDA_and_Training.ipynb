{
  "cells": [
    {
      "cell_type": "code",
      "execution_count": null,
      "metadata": {},
      "outputs": [],
      "source": [
        "import warnings\n",
        "warnings.filterwarnings('ignore')\n",
        "\n",
        "import numpy as np\n",
        "import pandas as pd\n",
        "import matplotlib.pyplot as plt\n",
        "import seaborn as sns\n",
        "from datetime import datetime, timedelta\n",
        "import joblib\n",
        "\n",
        "# BigQuery\n",
        "from google.cloud import bigquery\n",
        "\n",
        "# Our modules\n",
        "import sys\n",
        "import os\n",
        "sys.path.append('../')\n",
        "from src.models.ensemble import AMLEnsembleSystem\n",
        "from src.features.feature_extractor import FeatureExtractor\n",
        "\n",
        "# ML evaluation\n",
        "from sklearn.model_selection import train_test_split, StratifiedKFold\n",
        "from sklearn.metrics import (\n",
        "    roc_auc_score, average_precision_score, precision_recall_curve,\n",
        "    classification_report, confusion_matrix\n",
        ")\n",
        "\n",
        "# Visualization\n",
        "import plotly.express as px\n",
        "import plotly.graph_objects as go\n",
        "from plotly.subplots import make_subplots\n",
        "\n",
        "# Set style\n",
        "plt.style.use('seaborn-v0_8')\n",
        "sns.set_palette(\"husl\")\n",
        "\n",
        "print(\"📊 AML 360º Training Environment Ready\")\n"
      ]
    }
  ],
  "metadata": {
    "language_info": {
      "name": "python"
    }
  },
  "nbformat": 4,
  "nbformat_minor": 2
}
